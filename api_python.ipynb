{
 "cells": [
  {
   "cell_type": "markdown",
   "metadata": {},
   "source": [
    "# Configuracion e Importaciones"
   ]
  },
  {
   "cell_type": "code",
   "execution_count": null,
   "metadata": {},
   "outputs": [],
   "source": [
    "import spotipy\n",
    "from spotipy.oauth2 import SpotifyClientCredentials\n",
    "import findspark\n",
    "from pyspark.sql import SparkSession\n",
    "import psycopg2\n",
    "from pyspark.sql import Row\n",
    "# --------- Configurations ---------\n",
    "#DATABASE\n",
    "DB_HOST = 'host.docker.internal'\n",
    "DB_PORT = '5432'\n",
    "DB_NAME = 'music_discovery_db'\n",
    "DB_USER = 'postgres'\n",
    "DB_PASS = 'Elilouyea1' \n",
    "#API SPOTIFY\n",
    "CLIENT_ID = '524a3c52e62b4b4facef52683534465d'\n",
    "CLIENT_SECRET = '77c92fc62e0845d38ae328167fb5962a'"
   ]
  },
  {
   "cell_type": "markdown",
   "metadata": {},
   "source": [
    "# Creacion de la DB y las TABLAS a utilizar"
   ]
  },
  {
   "cell_type": "code",
   "execution_count": null,
   "metadata": {},
   "outputs": [],
   "source": [
    "# Conexión a PostgreSQL (base de datos default para verificar existencia de tu base de datos)\n",
    "conn = psycopg2.connect(database=\"postgres\", user=DB_USER, password=DB_PASS, host=DB_HOST, port=DB_PORT)\n",
    "conn.autocommit = True  # Esto es necesario para crear una base de datos y para operaciones DDL\n",
    "cur = conn.cursor()\n",
    "\n",
    "# Verifica si la base de datos 'music_discovery_db' ya existe\n",
    "cur.execute(\"SELECT 1 FROM pg_catalog.pg_database WHERE datname = 'music_discovery_db'\")\n",
    "exists = cur.fetchone()\n",
    "\n",
    "# Si no existe, la crea\n",
    "if not exists:\n",
    "    cur.execute(\"CREATE DATABASE music_discovery_db\")\n",
    "\n",
    "# Cierra esta conexión y cursor porque vamos a conectarnos a la nueva base de datos\n",
    "cur.close()\n",
    "conn.close()\n",
    "\n",
    "# Ahora nos conectamos a la base de datos 'music_discovery_db'\n",
    "conn = psycopg2.connect(database=DB_NAME, user=DB_USER, password=DB_PASS, host=DB_HOST, port=DB_PORT)\n",
    "cur = conn.cursor()\n",
    "\n",
    "# Crea las tablas si no existen\n",
    "cur.execute(\"\"\"\n",
    "CREATE TABLE IF NOT EXISTS public.search_terms (\n",
    "    id serial4 NOT NULL,\n",
    "    term text NOT NULL,\n",
    "    CONSTRAINT search_terms_pkey PRIMARY KEY (id)\n",
    ");\n",
    "\"\"\")\n",
    "\n",
    "# Chequear que existan registros en la tabla search_terms y si no, insertar algunos\n",
    "cur.execute(\"SELECT COUNT(*) FROM public.search_terms\")\n",
    "count = cur.fetchone()[0]\n",
    "\n",
    "if count == 0:\n",
    "    cur.execute(\"INSERT INTO public.search_terms (term) VALUES ('Imagine');\")\n",
    "    cur.execute(\"INSERT INTO public.search_terms (term) VALUES ('Yesterday');\")\n",
    "    cur.execute(\"INSERT INTO public.search_terms (term) VALUES ('Stairway to Heaven');\")\n",
    "    cur.execute(\"INSERT INTO public.search_terms (term) VALUES ('Bohemian Rhapsody');\")\n",
    "\n",
    "\n",
    "\n",
    "cur.execute(\"\"\"\n",
    "CREATE TABLE IF NOT EXISTS public.search_results (\n",
    "    id serial4 NOT NULL,\n",
    "    search_term_id int4 NULL,\n",
    "    name text NULL,\n",
    "    artist text NULL,\n",
    "    album text NULL,\n",
    "    album_id text NULL,\n",
    "    release_date date NULL,\n",
    "    length int4 NULL,\n",
    "    popularity int4 NULL,\n",
    "    duration int4 NULL,\n",
    "    search_date timestamp NULL DEFAULT CURRENT_TIMESTAMP,\n",
    "    CONSTRAINT search_results_pkey PRIMARY KEY (id),\n",
    "    CONSTRAINT search_results_search_term_id_fkey FOREIGN KEY (search_term_id) REFERENCES public.search_terms(id)\n",
    ");\n",
    "\"\"\")\n",
    "print(\"Tables created successfully\")"
   ]
  },
  {
   "cell_type": "markdown",
   "metadata": {},
   "source": [
    "## Funciones de utilidad"
   ]
  },
  {
   "cell_type": "code",
   "execution_count": null,
   "metadata": {},
   "outputs": [],
   "source": [
    "def format_release_date(date_str):\n",
    "    if len(date_str) == 4:\n",
    "        return f\"{date_str}-01-01\"\n",
    "    elif len(date_str) == 7:\n",
    "        return f\"{date_str}-01\"\n",
    "    else:\n",
    "        return date_str\n",
    "\n",
    "print(\"Functions created successfully\")"
   ]
  },
  {
   "cell_type": "markdown",
   "metadata": {},
   "source": [
    "# Autenticacion y Conexiones"
   ]
  },
  {
   "cell_type": "code",
   "execution_count": null,
   "metadata": {},
   "outputs": [],
   "source": [
    "client_credentials_manager = SpotifyClientCredentials(client_id=CLIENT_ID, client_secret=CLIENT_SECRET)\n",
    "sp = spotipy.Spotify(client_credentials_manager=client_credentials_manager)\n",
    "\n",
    "# Consultar términos de búsqueda\n",
    "cur.execute(\"SELECT id, term FROM search_terms\")\n",
    "terms = cur.fetchall()\n",
    "# Configuración de Spark\n",
    "findspark.init()\n",
    "spark = SparkSession.builder.appName(\"Spotify Data Analysis\").getOrCreate()\n",
    "\n",
    "print(\"Spark session created successfully\")"
   ]
  },
  {
   "cell_type": "markdown",
   "metadata": {},
   "source": [
    "# Busqueda en Spotify y Almacenamiento en la lista"
   ]
  },
  {
   "cell_type": "code",
   "execution_count": null,
   "metadata": {},
   "outputs": [],
   "source": [
    "# Paralelizar la búsqueda en Spotify\n",
    "def search_spotify(term):\n",
    "    term_id, term_name = term[0], term[1]\n",
    "    results = sp.search(q=term_name, limit=10)\n",
    "    tracks_list = []\n",
    "    for track in results['tracks']['items']:\n",
    "        track_data = {\n",
    "            'search_term_id': term_id,\n",
    "            'name': track['name'],\n",
    "            'artist': track['artists'][0]['name'],\n",
    "            'album': track['album']['name'],\n",
    "            'album_id': track['album']['id'],\n",
    "            'release_date': format_release_date(track['album']['release_date']),\n",
    "            'length': track['duration_ms'],\n",
    "            'popularity': track['popularity'],\n",
    "            'duration': track['duration_ms']\n",
    "        }\n",
    "        tracks_list.append(track_data)\n",
    "    return tracks_list\n",
    "\n",
    "\n",
    "all_tracks_list = [search_spotify(term) for term in terms]\n",
    "all_tracks_flat = [item for sublist in all_tracks_list for item in sublist]\n",
    "\n",
    "# Convertir la lista de pistas a un DataFrame de Spark usando all_tracks_flat\n",
    "rdd = spark.sparkContext.parallelize(all_tracks_flat)\n",
    "df_spark = rdd.map(lambda x: Row(**x)).toDF()\n",
    "\n",
    "# Análisis básico con Spark\n",
    "df_spark.groupBy(\"artist\").count().show()\n",
    "\n",
    "# Inserción en la base de datos\n",
    "insert_query = \"\"\"\n",
    "    INSERT INTO search_results (search_term_id, name, artist, album, album_id, release_date, length, popularity, duration) \n",
    "    VALUES (%s, %s, %s, %s, %s, %s, %s, %s, %s)\n",
    "\"\"\"\n",
    "\n",
    "for row in all_tracks_flat:\n",
    "    if not isinstance(row, dict):  # Diagnóstico para identificar elementos problemáticos\n",
    "        print(f\"Unexpected item in all_tracks_flat: {row}\")\n",
    "        continue  # Salta este elemento y sigue con el siguiente\n",
    "\n",
    "    data = (row['search_term_id'], row['name'], row['artist'], row['album'], row['album_id'], row['release_date'], row['length'], row['popularity'], row['duration'])\n",
    "    cur.execute(insert_query, data)\n",
    "    \n",
    "conn.commit()\n",
    "\n",
    "print(\"Data inserted successfully\")"
   ]
  },
  {
   "cell_type": "markdown",
   "metadata": {},
   "source": [
    "# Limpieza y cierre"
   ]
  },
  {
   "cell_type": "code",
   "execution_count": null,
   "metadata": {},
   "outputs": [],
   "source": [
    "cur.close()\n",
    "conn.close()\n",
    "spark.stop()\n",
    "print(\"Connection closed successfully\")"
   ]
  }
 ],
 "metadata": {
  "kernelspec": {
   "display_name": "Python 3",
   "language": "python",
   "name": "python3"
  },
  "language_info": {
   "codemirror_mode": {
    "name": "ipython",
    "version": 3
   },
   "file_extension": ".py",
   "mimetype": "text/x-python",
   "name": "python",
   "nbconvert_exporter": "python",
   "pygments_lexer": "ipython3",
   "version": "3.9.5"
  },
  "orig_nbformat": 4
 },
 "nbformat": 4,
 "nbformat_minor": 2
}
